{
 "cells": [
  {
   "cell_type": "markdown",
   "metadata": {},
   "source": [
    "# Spotle AI - NASSCOM Community AI Internship Program"
   ]
  },
  {
   "cell_type": "markdown",
   "metadata": {},
   "source": [
    "## Project - Analyze Crop Production of India"
   ]
  },
  {
   "cell_type": "markdown",
   "metadata": {},
   "source": [
    "In this project we have to study and analyse crop production, production contribution to State/country, performance, and high yield production order for crops, crop growing pattern and diversification. Also, you have to forecast the product of the crop for future periods, which can be used to formulate crop-related schemes."
   ]
  },
  {
   "cell_type": "markdown",
   "metadata": {},
   "source": [
    "## The Problem Statements:\n",
    "1.Find the average production of the crops in India.\n",
    "\n",
    "\n",
    "2.Which crop has maximum yield (Tonnes / Hectare)?\n",
    "\n",
    "\n",
    "3.Write a comparative study on Rice production between Odisha and West Bengal.\n",
    "\n",
    "\n",
    "4.Which State has the highest production of Wheat?\n",
    "\n",
    "\n",
    "5.Build a model to predict the production of Rice in 2014 for Andhra Pradesh, Uttar Pradesh and Tamil Nadu\n"
   ]
  },
  {
   "cell_type": "markdown",
   "metadata": {},
   "source": [
    "**Author: ANINDYA NAG**"
   ]
  },
  {
   "cell_type": "markdown",
   "metadata": {},
   "source": [
    "At first,we will import the dataset through the link with the help of pandas library and then we will observe the data"
   ]
  },
  {
   "cell_type": "code",
   "execution_count": 2,
   "metadata": {},
   "outputs": [],
   "source": [
    "import numpy as np \n",
    "import pandas as pd \n",
    "import matplotlib.pyplot as plt \n",
    "%matplotlib inline\n",
    "import seaborn as sns\n",
    "#to ignore the warnings\n",
    "import warnings as wg\n",
    "wg.filterwarnings(\"ignore\")"
   ]
  },
  {
   "cell_type": "code",
   "execution_count": 3,
   "metadata": {},
   "outputs": [],
   "source": [
    "#reading data from file\n",
    "url=\"https://cdn.spotle.ai/datasets/state-wise-crop-production-India.zip\"\n",
    "df=pd.read_csv(url)"
   ]
  },
  {
   "cell_type": "code",
   "execution_count": 4,
   "metadata": {},
   "outputs": [
    {
     "data": {
      "text/html": [
       "<div>\n",
       "<style scoped>\n",
       "    .dataframe tbody tr th:only-of-type {\n",
       "        vertical-align: middle;\n",
       "    }\n",
       "\n",
       "    .dataframe tbody tr th {\n",
       "        vertical-align: top;\n",
       "    }\n",
       "\n",
       "    .dataframe thead th {\n",
       "        text-align: right;\n",
       "    }\n",
       "</style>\n",
       "<table border=\"1\" class=\"dataframe\">\n",
       "  <thead>\n",
       "    <tr style=\"text-align: right;\">\n",
       "      <th></th>\n",
       "      <th>State</th>\n",
       "      <th>Year</th>\n",
       "      <th>Crop</th>\n",
       "      <th>Area</th>\n",
       "      <th>Production</th>\n",
       "    </tr>\n",
       "  </thead>\n",
       "  <tbody>\n",
       "    <tr>\n",
       "      <th>0</th>\n",
       "      <td>Andaman and Nicobar Islands</td>\n",
       "      <td>2000</td>\n",
       "      <td>Arecanut</td>\n",
       "      <td>4354.0</td>\n",
       "      <td>7200.0</td>\n",
       "    </tr>\n",
       "    <tr>\n",
       "      <th>1</th>\n",
       "      <td>Andaman and Nicobar Islands</td>\n",
       "      <td>2000</td>\n",
       "      <td>Banana</td>\n",
       "      <td>1707.0</td>\n",
       "      <td>12714.0</td>\n",
       "    </tr>\n",
       "    <tr>\n",
       "      <th>2</th>\n",
       "      <td>Andaman and Nicobar Islands</td>\n",
       "      <td>2000</td>\n",
       "      <td>Cashewnut</td>\n",
       "      <td>800.0</td>\n",
       "      <td>219.0</td>\n",
       "    </tr>\n",
       "    <tr>\n",
       "      <th>3</th>\n",
       "      <td>Andaman and Nicobar Islands</td>\n",
       "      <td>2000</td>\n",
       "      <td>Coconut</td>\n",
       "      <td>25160.0</td>\n",
       "      <td>89000000.0</td>\n",
       "    </tr>\n",
       "    <tr>\n",
       "      <th>4</th>\n",
       "      <td>Andaman and Nicobar Islands</td>\n",
       "      <td>2000</td>\n",
       "      <td>Dry ginger</td>\n",
       "      <td>388.0</td>\n",
       "      <td>1220.0</td>\n",
       "    </tr>\n",
       "    <tr>\n",
       "      <th>...</th>\n",
       "      <td>...</td>\n",
       "      <td>...</td>\n",
       "      <td>...</td>\n",
       "      <td>...</td>\n",
       "      <td>...</td>\n",
       "    </tr>\n",
       "    <tr>\n",
       "      <th>10699</th>\n",
       "      <td>West Bengal</td>\n",
       "      <td>2013</td>\n",
       "      <td>Sugarcane</td>\n",
       "      <td>17021.0</td>\n",
       "      <td>1945042.0</td>\n",
       "    </tr>\n",
       "    <tr>\n",
       "      <th>10700</th>\n",
       "      <td>West Bengal</td>\n",
       "      <td>2013</td>\n",
       "      <td>Sunflower</td>\n",
       "      <td>6434.0</td>\n",
       "      <td>8717.0</td>\n",
       "    </tr>\n",
       "    <tr>\n",
       "      <th>10701</th>\n",
       "      <td>West Bengal</td>\n",
       "      <td>2013</td>\n",
       "      <td>Tobacco</td>\n",
       "      <td>12570.0</td>\n",
       "      <td>22287.0</td>\n",
       "    </tr>\n",
       "    <tr>\n",
       "      <th>10702</th>\n",
       "      <td>West Bengal</td>\n",
       "      <td>2013</td>\n",
       "      <td>Urad</td>\n",
       "      <td>70052.0</td>\n",
       "      <td>48810.0</td>\n",
       "    </tr>\n",
       "    <tr>\n",
       "      <th>10703</th>\n",
       "      <td>West Bengal</td>\n",
       "      <td>2013</td>\n",
       "      <td>Wheat</td>\n",
       "      <td>331481.0</td>\n",
       "      <td>927837.0</td>\n",
       "    </tr>\n",
       "  </tbody>\n",
       "</table>\n",
       "<p>10704 rows × 5 columns</p>\n",
       "</div>"
      ],
      "text/plain": [
       "                             State  Year        Crop      Area  Production\n",
       "0      Andaman and Nicobar Islands  2000    Arecanut    4354.0      7200.0\n",
       "1      Andaman and Nicobar Islands  2000      Banana    1707.0     12714.0\n",
       "2      Andaman and Nicobar Islands  2000   Cashewnut     800.0       219.0\n",
       "3      Andaman and Nicobar Islands  2000    Coconut    25160.0  89000000.0\n",
       "4      Andaman and Nicobar Islands  2000  Dry ginger     388.0      1220.0\n",
       "...                            ...   ...         ...       ...         ...\n",
       "10699                  West Bengal  2013   Sugarcane   17021.0   1945042.0\n",
       "10700                  West Bengal  2013   Sunflower    6434.0      8717.0\n",
       "10701                  West Bengal  2013     Tobacco   12570.0     22287.0\n",
       "10702                  West Bengal  2013        Urad   70052.0     48810.0\n",
       "10703                  West Bengal  2013       Wheat  331481.0    927837.0\n",
       "\n",
       "[10704 rows x 5 columns]"
      ]
     },
     "execution_count": 4,
     "metadata": {},
     "output_type": "execute_result"
    }
   ],
   "source": [
    "df"
   ]
  },
  {
   "cell_type": "code",
   "execution_count": 5,
   "metadata": {},
   "outputs": [
    {
     "data": {
      "text/plain": [
       "(10704, 5)"
      ]
     },
     "execution_count": 5,
     "metadata": {},
     "output_type": "execute_result"
    }
   ],
   "source": [
    "#to find the number of columns and rows\n",
    "df.shape"
   ]
  },
  {
   "cell_type": "code",
   "execution_count": 6,
   "metadata": {},
   "outputs": [
    {
     "name": "stdout",
     "output_type": "stream",
     "text": [
      "<class 'pandas.core.frame.DataFrame'>\n",
      "RangeIndex: 10704 entries, 0 to 10703\n",
      "Data columns (total 5 columns):\n",
      " #   Column      Non-Null Count  Dtype  \n",
      "---  ------      --------------  -----  \n",
      " 0   State       10704 non-null  object \n",
      " 1   Year        10704 non-null  int64  \n",
      " 2   Crop        10704 non-null  object \n",
      " 3   Area        10704 non-null  float64\n",
      " 4   Production  10704 non-null  float64\n",
      "dtypes: float64(2), int64(1), object(2)\n",
      "memory usage: 418.2+ KB\n"
     ]
    }
   ],
   "source": [
    "#to find more information about our dataset\n",
    "df.info()"
   ]
  },
  {
   "cell_type": "code",
   "execution_count": 7,
   "metadata": {},
   "outputs": [
    {
     "data": {
      "text/html": [
       "<div>\n",
       "<style scoped>\n",
       "    .dataframe tbody tr th:only-of-type {\n",
       "        vertical-align: middle;\n",
       "    }\n",
       "\n",
       "    .dataframe tbody tr th {\n",
       "        vertical-align: top;\n",
       "    }\n",
       "\n",
       "    .dataframe thead th {\n",
       "        text-align: right;\n",
       "    }\n",
       "</style>\n",
       "<table border=\"1\" class=\"dataframe\">\n",
       "  <thead>\n",
       "    <tr style=\"text-align: right;\">\n",
       "      <th></th>\n",
       "      <th>Year</th>\n",
       "      <th>Area</th>\n",
       "      <th>Production</th>\n",
       "    </tr>\n",
       "  </thead>\n",
       "  <tbody>\n",
       "    <tr>\n",
       "      <th>count</th>\n",
       "      <td>10704.000000</td>\n",
       "      <td>1.070400e+04</td>\n",
       "      <td>1.070400e+04</td>\n",
       "    </tr>\n",
       "    <tr>\n",
       "      <th>mean</th>\n",
       "      <td>2006.134342</td>\n",
       "      <td>2.126362e+05</td>\n",
       "      <td>1.115409e+07</td>\n",
       "    </tr>\n",
       "    <tr>\n",
       "      <th>std</th>\n",
       "      <td>3.973598</td>\n",
       "      <td>7.238971e+05</td>\n",
       "      <td>2.263971e+08</td>\n",
       "    </tr>\n",
       "    <tr>\n",
       "      <th>min</th>\n",
       "      <td>2000.000000</td>\n",
       "      <td>1.000000e+00</td>\n",
       "      <td>0.000000e+00</td>\n",
       "    </tr>\n",
       "    <tr>\n",
       "      <th>25%</th>\n",
       "      <td>2003.000000</td>\n",
       "      <td>1.506000e+03</td>\n",
       "      <td>1.500000e+03</td>\n",
       "    </tr>\n",
       "    <tr>\n",
       "      <th>50%</th>\n",
       "      <td>2006.000000</td>\n",
       "      <td>1.096650e+04</td>\n",
       "      <td>1.551650e+04</td>\n",
       "    </tr>\n",
       "    <tr>\n",
       "      <th>75%</th>\n",
       "      <td>2010.000000</td>\n",
       "      <td>9.252500e+04</td>\n",
       "      <td>1.424018e+05</td>\n",
       "    </tr>\n",
       "    <tr>\n",
       "      <th>max</th>\n",
       "      <td>2013.000000</td>\n",
       "      <td>1.237800e+07</td>\n",
       "      <td>6.326000e+09</td>\n",
       "    </tr>\n",
       "  </tbody>\n",
       "</table>\n",
       "</div>"
      ],
      "text/plain": [
       "               Year          Area    Production\n",
       "count  10704.000000  1.070400e+04  1.070400e+04\n",
       "mean    2006.134342  2.126362e+05  1.115409e+07\n",
       "std        3.973598  7.238971e+05  2.263971e+08\n",
       "min     2000.000000  1.000000e+00  0.000000e+00\n",
       "25%     2003.000000  1.506000e+03  1.500000e+03\n",
       "50%     2006.000000  1.096650e+04  1.551650e+04\n",
       "75%     2010.000000  9.252500e+04  1.424018e+05\n",
       "max     2013.000000  1.237800e+07  6.326000e+09"
      ]
     },
     "execution_count": 7,
     "metadata": {},
     "output_type": "execute_result"
    }
   ],
   "source": [
    "df.describe()"
   ]
  },
  {
   "cell_type": "code",
   "execution_count": 8,
   "metadata": {},
   "outputs": [
    {
     "data": {
      "text/plain": [
       "State         0\n",
       "Year          0\n",
       "Crop          0\n",
       "Area          0\n",
       "Production    0\n",
       "dtype: int64"
      ]
     },
     "execution_count": 8,
     "metadata": {},
     "output_type": "execute_result"
    }
   ],
   "source": [
    "#now we will check if our dataset contains null or missing values\n",
    "df.isnull().sum()"
   ]
  },
  {
   "cell_type": "code",
   "execution_count": 9,
   "metadata": {},
   "outputs": [
    {
     "data": {
      "text/plain": [
       "array([2000, 2001, 2002, 2003, 2004, 2005, 2006, 2010, 2007, 2008, 2009,\n",
       "       2011, 2012, 2013], dtype=int64)"
      ]
     },
     "execution_count": 9,
     "metadata": {},
     "output_type": "execute_result"
    }
   ],
   "source": [
    "#to see the years in our dataset\n",
    "df['Year'].unique()"
   ]
  },
  {
   "cell_type": "code",
   "execution_count": 10,
   "metadata": {},
   "outputs": [
    {
     "data": {
      "text/plain": [
       "array(['Andaman and Nicobar Islands', 'Andhra Pradesh',\n",
       "       'Arunachal Pradesh', 'Assam', 'Bihar', 'Chandigarh',\n",
       "       'Chhattisgarh', 'Dadra and Nagar Haveli', 'Goa', 'Gujarat',\n",
       "       'Haryana', 'Himachal Pradesh', 'Jammu and Kashmir ', 'Jharkhand',\n",
       "       'Karnataka', 'Kerala', 'Madhya Pradesh', 'Maharashtra', 'Manipur',\n",
       "       'Meghalaya', 'Mizoram', 'Nagaland', 'Odisha', 'Puducherry',\n",
       "       'Punjab', 'Rajasthan', 'Sikkim', 'Tamil Nadu', 'Telangana ',\n",
       "       'Tripura', 'Uttar Pradesh', 'Uttarakhand', 'West Bengal'],\n",
       "      dtype=object)"
      ]
     },
     "execution_count": 10,
     "metadata": {},
     "output_type": "execute_result"
    }
   ],
   "source": [
    "#to see the states of our dataset\n",
    "df['State'].unique()"
   ]
  },
  {
   "cell_type": "markdown",
   "metadata": {},
   "source": [
    "**1.Find the average production of the crops in India.**\n",
    "\n",
    "According to the first question we have calculate the average production of crops in India.For this,we create a dataframe caaled avg_production and call .mean() function.By calling .groupby() function we get the average production of crop."
   ]
  },
  {
   "cell_type": "code",
   "execution_count": 11,
   "metadata": {},
   "outputs": [],
   "source": [
    "avg_production = df['Production'].mean()\n",
    "groupby_total_production = df.groupby(['Crop']).mean()"
   ]
  },
  {
   "cell_type": "markdown",
   "metadata": {},
   "source": [
    "Now we will print the average value of crop production."
   ]
  },
  {
   "cell_type": "code",
   "execution_count": 12,
   "metadata": {},
   "outputs": [
    {
     "name": "stdout",
     "output_type": "stream",
     "text": [
      "Average Production of Crops in India is:                             Year          Area    Production\n",
      "Crop                                                        \n",
      "Apple                2002.500000  4.500000e+00  0.000000e+00\n",
      "Arcanut (Processed)  2002.000000  1.441160e+05  1.928310e+05\n",
      "Arecanut             2006.280000  4.963545e+04  1.674254e+05\n",
      "Arhar/Tur            2006.267797  1.545573e+05  1.060493e+05\n",
      "Ash Gourd            2002.500000  8.220000e+02  0.000000e+00\n",
      "...                          ...           ...           ...\n",
      "Wheat                2006.205797  1.084402e+06  3.136744e+06\n",
      "Yam                  2002.500000  8.875000e+02  0.000000e+00\n",
      "other fibres         2002.333333  4.212667e+03  0.000000e+00\n",
      "other misc. pulses   2001.800000  6.168600e+03  1.940844e+03\n",
      "other oilseeds       2005.750000  3.888168e+04  6.003707e+04\n",
      "\n",
      "[122 rows x 3 columns]\n"
     ]
    }
   ],
   "source": [
    "print('Average Production of Crops in India is: ' + str(groupby_total_production))"
   ]
  },
  {
   "cell_type": "markdown",
   "metadata": {},
   "source": [
    "**2.Which crop has maximum yield (Tonnes / Hectare)?**\n",
    "\n",
    "According to the above question we have to calculate the maximum yeild i.e max production of the crop.\n",
    "For this we will call the .max() function and print the the max amount of production."
   ]
  },
  {
   "cell_type": "code",
   "execution_count": 13,
   "metadata": {},
   "outputs": [
    {
     "name": "stdout",
     "output_type": "stream",
     "text": [
      "Max yeild:6326000000.0\n"
     ]
    }
   ],
   "source": [
    "max_yeild=df['Production'].max()\n",
    "print('Max yeild:' + str(max_yeild))"
   ]
  },
  {
   "cell_type": "markdown",
   "metadata": {},
   "source": [
    "Now we will print the crop name which has the max amount of production."
   ]
  },
  {
   "cell_type": "code",
   "execution_count": 14,
   "metadata": {},
   "outputs": [
    {
     "data": {
      "text/html": [
       "<div>\n",
       "<style scoped>\n",
       "    .dataframe tbody tr th:only-of-type {\n",
       "        vertical-align: middle;\n",
       "    }\n",
       "\n",
       "    .dataframe tbody tr th {\n",
       "        vertical-align: top;\n",
       "    }\n",
       "\n",
       "    .dataframe thead th {\n",
       "        text-align: right;\n",
       "    }\n",
       "</style>\n",
       "<table border=\"1\" class=\"dataframe\">\n",
       "  <thead>\n",
       "    <tr style=\"text-align: right;\">\n",
       "      <th></th>\n",
       "      <th>State</th>\n",
       "      <th>Year</th>\n",
       "      <th>Crop</th>\n",
       "      <th>Area</th>\n",
       "      <th>Production</th>\n",
       "    </tr>\n",
       "  </thead>\n",
       "  <tbody>\n",
       "    <tr>\n",
       "      <th>4651</th>\n",
       "      <td>Kerala</td>\n",
       "      <td>2005</td>\n",
       "      <td>Coconut</td>\n",
       "      <td>897833.0</td>\n",
       "      <td>6.326000e+09</td>\n",
       "    </tr>\n",
       "  </tbody>\n",
       "</table>\n",
       "</div>"
      ],
      "text/plain": [
       "       State  Year      Crop      Area    Production\n",
       "4651  Kerala  2005  Coconut   897833.0  6.326000e+09"
      ]
     },
     "execution_count": 14,
     "metadata": {},
     "output_type": "execute_result"
    }
   ],
   "source": [
    "df[df['Production']==6326000000.0]"
   ]
  },
  {
   "cell_type": "markdown",
   "metadata": {},
   "source": [
    "We can see from the above table that Coconut has maximum yeild which is 6.326000000.0 Tonnes.Kerala produced max amount of coconuts in the year 2005."
   ]
  },
  {
   "cell_type": "markdown",
   "metadata": {},
   "source": [
    "**3.Write a comparative study on Rice production between Odisha and West Bengal.**\n",
    "\n",
    "According to the above question,we have to do a comparision of rice production between West Bengal and Odisha.\n",
    "For this,at first we have to create a dataframe for rice crop."
   ]
  },
  {
   "cell_type": "code",
   "execution_count": 15,
   "metadata": {},
   "outputs": [],
   "source": [
    "rice_df=df[df['Crop']=='Rice']"
   ]
  },
  {
   "cell_type": "markdown",
   "metadata": {},
   "source": [
    "Now we have to create a dataframe for West Bengal Rice Production."
   ]
  },
  {
   "cell_type": "code",
   "execution_count": 16,
   "metadata": {},
   "outputs": [
    {
     "data": {
      "text/html": [
       "<div>\n",
       "<style scoped>\n",
       "    .dataframe tbody tr th:only-of-type {\n",
       "        vertical-align: middle;\n",
       "    }\n",
       "\n",
       "    .dataframe tbody tr th {\n",
       "        vertical-align: top;\n",
       "    }\n",
       "\n",
       "    .dataframe thead th {\n",
       "        text-align: right;\n",
       "    }\n",
       "</style>\n",
       "<table border=\"1\" class=\"dataframe\">\n",
       "  <thead>\n",
       "    <tr style=\"text-align: right;\">\n",
       "      <th></th>\n",
       "      <th>State</th>\n",
       "      <th>Year</th>\n",
       "      <th>Crop</th>\n",
       "      <th>Area</th>\n",
       "      <th>Production</th>\n",
       "    </tr>\n",
       "  </thead>\n",
       "  <tbody>\n",
       "    <tr>\n",
       "      <th>10211</th>\n",
       "      <td>West Bengal</td>\n",
       "      <td>2000</td>\n",
       "      <td>Rice</td>\n",
       "      <td>5435323.0</td>\n",
       "      <td>12428038.0</td>\n",
       "    </tr>\n",
       "    <tr>\n",
       "      <th>10250</th>\n",
       "      <td>West Bengal</td>\n",
       "      <td>2001</td>\n",
       "      <td>Rice</td>\n",
       "      <td>5503087.0</td>\n",
       "      <td>13815548.0</td>\n",
       "    </tr>\n",
       "    <tr>\n",
       "      <th>10289</th>\n",
       "      <td>West Bengal</td>\n",
       "      <td>2002</td>\n",
       "      <td>Rice</td>\n",
       "      <td>5842127.0</td>\n",
       "      <td>14389238.0</td>\n",
       "    </tr>\n",
       "    <tr>\n",
       "      <th>10328</th>\n",
       "      <td>West Bengal</td>\n",
       "      <td>2003</td>\n",
       "      <td>Rice</td>\n",
       "      <td>5856607.0</td>\n",
       "      <td>14662239.0</td>\n",
       "    </tr>\n",
       "    <tr>\n",
       "      <th>10366</th>\n",
       "      <td>West Bengal</td>\n",
       "      <td>2004</td>\n",
       "      <td>Rice</td>\n",
       "      <td>5783613.0</td>\n",
       "      <td>14884889.0</td>\n",
       "    </tr>\n",
       "    <tr>\n",
       "      <th>10405</th>\n",
       "      <td>West Bengal</td>\n",
       "      <td>2005</td>\n",
       "      <td>Rice</td>\n",
       "      <td>5782949.0</td>\n",
       "      <td>14510742.0</td>\n",
       "    </tr>\n",
       "    <tr>\n",
       "      <th>10444</th>\n",
       "      <td>West Bengal</td>\n",
       "      <td>2006</td>\n",
       "      <td>Rice</td>\n",
       "      <td>5687028.0</td>\n",
       "      <td>14745892.0</td>\n",
       "    </tr>\n",
       "    <tr>\n",
       "      <th>10482</th>\n",
       "      <td>West Bengal</td>\n",
       "      <td>2007</td>\n",
       "      <td>Rice</td>\n",
       "      <td>5719755.0</td>\n",
       "      <td>14719520.0</td>\n",
       "    </tr>\n",
       "    <tr>\n",
       "      <th>10522</th>\n",
       "      <td>West Bengal</td>\n",
       "      <td>2008</td>\n",
       "      <td>Rice</td>\n",
       "      <td>5935696.0</td>\n",
       "      <td>15037240.0</td>\n",
       "    </tr>\n",
       "    <tr>\n",
       "      <th>10556</th>\n",
       "      <td>West Bengal</td>\n",
       "      <td>2009</td>\n",
       "      <td>Rice</td>\n",
       "      <td>5630095.0</td>\n",
       "      <td>14340605.0</td>\n",
       "    </tr>\n",
       "    <tr>\n",
       "      <th>10590</th>\n",
       "      <td>West Bengal</td>\n",
       "      <td>2010</td>\n",
       "      <td>Rice</td>\n",
       "      <td>4944146.0</td>\n",
       "      <td>13389610.0</td>\n",
       "    </tr>\n",
       "    <tr>\n",
       "      <th>10624</th>\n",
       "      <td>West Bengal</td>\n",
       "      <td>2011</td>\n",
       "      <td>Rice</td>\n",
       "      <td>5433700.0</td>\n",
       "      <td>14605766.0</td>\n",
       "    </tr>\n",
       "    <tr>\n",
       "      <th>10658</th>\n",
       "      <td>West Bengal</td>\n",
       "      <td>2012</td>\n",
       "      <td>Rice</td>\n",
       "      <td>5444318.0</td>\n",
       "      <td>14946735.0</td>\n",
       "    </tr>\n",
       "    <tr>\n",
       "      <th>10693</th>\n",
       "      <td>West Bengal</td>\n",
       "      <td>2013</td>\n",
       "      <td>Rice</td>\n",
       "      <td>5513687.0</td>\n",
       "      <td>15376869.0</td>\n",
       "    </tr>\n",
       "  </tbody>\n",
       "</table>\n",
       "</div>"
      ],
      "text/plain": [
       "             State  Year  Crop       Area  Production\n",
       "10211  West Bengal  2000  Rice  5435323.0  12428038.0\n",
       "10250  West Bengal  2001  Rice  5503087.0  13815548.0\n",
       "10289  West Bengal  2002  Rice  5842127.0  14389238.0\n",
       "10328  West Bengal  2003  Rice  5856607.0  14662239.0\n",
       "10366  West Bengal  2004  Rice  5783613.0  14884889.0\n",
       "10405  West Bengal  2005  Rice  5782949.0  14510742.0\n",
       "10444  West Bengal  2006  Rice  5687028.0  14745892.0\n",
       "10482  West Bengal  2007  Rice  5719755.0  14719520.0\n",
       "10522  West Bengal  2008  Rice  5935696.0  15037240.0\n",
       "10556  West Bengal  2009  Rice  5630095.0  14340605.0\n",
       "10590  West Bengal  2010  Rice  4944146.0  13389610.0\n",
       "10624  West Bengal  2011  Rice  5433700.0  14605766.0\n",
       "10658  West Bengal  2012  Rice  5444318.0  14946735.0\n",
       "10693  West Bengal  2013  Rice  5513687.0  15376869.0"
      ]
     },
     "execution_count": 16,
     "metadata": {},
     "output_type": "execute_result"
    }
   ],
   "source": [
    "west_bengal_rice_production_df=rice_df[df['State']=='West Bengal']\n",
    "west_bengal_rice_production_df"
   ]
  },
  {
   "cell_type": "markdown",
   "metadata": {},
   "source": [
    "Now,we create two lists.One is for West Bengal Crop Production Year and another one is for the Production of Rice in West Bengal."
   ]
  },
  {
   "cell_type": "code",
   "execution_count": 17,
   "metadata": {},
   "outputs": [],
   "source": [
    "df_west_bengal_rice_production_year=[2000,2001,2002,2003,2004,2005,2006,2006,2007,2008,2009,\n",
    "                                     2010,2011,2012,2013]\n",
    "df_west_bengal_rice_production=[12428038.0,13815548.0,14389238.0,14662239.0,14884889.0,14510742.0,14745892.0,\n",
    "                  1471920.0,15037240.0,14340605.0,13389610.0,14605766.0,1496735.0,15376869.0]"
   ]
  },
  {
   "cell_type": "markdown",
   "metadata": {},
   "source": [
    "Similar way we have to do the same thing for Odisha."
   ]
  },
  {
   "cell_type": "code",
   "execution_count": 18,
   "metadata": {},
   "outputs": [
    {
     "data": {
      "text/html": [
       "<div>\n",
       "<style scoped>\n",
       "    .dataframe tbody tr th:only-of-type {\n",
       "        vertical-align: middle;\n",
       "    }\n",
       "\n",
       "    .dataframe tbody tr th {\n",
       "        vertical-align: top;\n",
       "    }\n",
       "\n",
       "    .dataframe thead th {\n",
       "        text-align: right;\n",
       "    }\n",
       "</style>\n",
       "<table border=\"1\" class=\"dataframe\">\n",
       "  <thead>\n",
       "    <tr style=\"text-align: right;\">\n",
       "      <th></th>\n",
       "      <th>State</th>\n",
       "      <th>Year</th>\n",
       "      <th>Crop</th>\n",
       "      <th>Area</th>\n",
       "      <th>Production</th>\n",
       "    </tr>\n",
       "  </thead>\n",
       "  <tbody>\n",
       "    <tr>\n",
       "      <th>6738</th>\n",
       "      <td>Odisha</td>\n",
       "      <td>2000</td>\n",
       "      <td>Rice</td>\n",
       "      <td>4433520.0</td>\n",
       "      <td>4613380.0</td>\n",
       "    </tr>\n",
       "    <tr>\n",
       "      <th>6773</th>\n",
       "      <td>Odisha</td>\n",
       "      <td>2001</td>\n",
       "      <td>Rice</td>\n",
       "      <td>4500000.0</td>\n",
       "      <td>7220000.0</td>\n",
       "    </tr>\n",
       "    <tr>\n",
       "      <th>6807</th>\n",
       "      <td>Odisha</td>\n",
       "      <td>2002</td>\n",
       "      <td>Rice</td>\n",
       "      <td>4273000.0</td>\n",
       "      <td>3278000.0</td>\n",
       "    </tr>\n",
       "    <tr>\n",
       "      <th>6841</th>\n",
       "      <td>Odisha</td>\n",
       "      <td>2003</td>\n",
       "      <td>Rice</td>\n",
       "      <td>4501000.0</td>\n",
       "      <td>6801000.0</td>\n",
       "    </tr>\n",
       "    <tr>\n",
       "      <th>6873</th>\n",
       "      <td>Odisha</td>\n",
       "      <td>2004</td>\n",
       "      <td>Rice</td>\n",
       "      <td>4492000.0</td>\n",
       "      <td>6536000.0</td>\n",
       "    </tr>\n",
       "    <tr>\n",
       "      <th>6892</th>\n",
       "      <td>Odisha</td>\n",
       "      <td>2005</td>\n",
       "      <td>Rice</td>\n",
       "      <td>4479000.0</td>\n",
       "      <td>6858000.0</td>\n",
       "    </tr>\n",
       "    <tr>\n",
       "      <th>6905</th>\n",
       "      <td>Odisha</td>\n",
       "      <td>2006</td>\n",
       "      <td>Rice</td>\n",
       "      <td>4451000.0</td>\n",
       "      <td>6823000.0</td>\n",
       "    </tr>\n",
       "    <tr>\n",
       "      <th>6918</th>\n",
       "      <td>Odisha</td>\n",
       "      <td>2007</td>\n",
       "      <td>Rice</td>\n",
       "      <td>4452000.0</td>\n",
       "      <td>7540000.0</td>\n",
       "    </tr>\n",
       "    <tr>\n",
       "      <th>6931</th>\n",
       "      <td>Odisha</td>\n",
       "      <td>2008</td>\n",
       "      <td>Rice</td>\n",
       "      <td>4455000.0</td>\n",
       "      <td>6812000.0</td>\n",
       "    </tr>\n",
       "    <tr>\n",
       "      <th>6944</th>\n",
       "      <td>Odisha</td>\n",
       "      <td>2009</td>\n",
       "      <td>Rice</td>\n",
       "      <td>4365000.0</td>\n",
       "      <td>6913000.0</td>\n",
       "    </tr>\n",
       "    <tr>\n",
       "      <th>6957</th>\n",
       "      <td>Odisha</td>\n",
       "      <td>2010</td>\n",
       "      <td>Rice</td>\n",
       "      <td>4226000.0</td>\n",
       "      <td>6824000.0</td>\n",
       "    </tr>\n",
       "    <tr>\n",
       "      <th>6971</th>\n",
       "      <td>Odisha</td>\n",
       "      <td>2011</td>\n",
       "      <td>Rice</td>\n",
       "      <td>4005000.0</td>\n",
       "      <td>5806000.0</td>\n",
       "    </tr>\n",
       "    <tr>\n",
       "      <th>6984</th>\n",
       "      <td>Odisha</td>\n",
       "      <td>2012</td>\n",
       "      <td>Rice</td>\n",
       "      <td>12378000.0</td>\n",
       "      <td>9496000.0</td>\n",
       "    </tr>\n",
       "    <tr>\n",
       "      <th>6997</th>\n",
       "      <td>Odisha</td>\n",
       "      <td>2013</td>\n",
       "      <td>Rice</td>\n",
       "      <td>4180000.0</td>\n",
       "      <td>7610000.0</td>\n",
       "    </tr>\n",
       "  </tbody>\n",
       "</table>\n",
       "</div>"
      ],
      "text/plain": [
       "       State  Year  Crop        Area  Production\n",
       "6738  Odisha  2000  Rice   4433520.0   4613380.0\n",
       "6773  Odisha  2001  Rice   4500000.0   7220000.0\n",
       "6807  Odisha  2002  Rice   4273000.0   3278000.0\n",
       "6841  Odisha  2003  Rice   4501000.0   6801000.0\n",
       "6873  Odisha  2004  Rice   4492000.0   6536000.0\n",
       "6892  Odisha  2005  Rice   4479000.0   6858000.0\n",
       "6905  Odisha  2006  Rice   4451000.0   6823000.0\n",
       "6918  Odisha  2007  Rice   4452000.0   7540000.0\n",
       "6931  Odisha  2008  Rice   4455000.0   6812000.0\n",
       "6944  Odisha  2009  Rice   4365000.0   6913000.0\n",
       "6957  Odisha  2010  Rice   4226000.0   6824000.0\n",
       "6971  Odisha  2011  Rice   4005000.0   5806000.0\n",
       "6984  Odisha  2012  Rice  12378000.0   9496000.0\n",
       "6997  Odisha  2013  Rice   4180000.0   7610000.0"
      ]
     },
     "execution_count": 18,
     "metadata": {},
     "output_type": "execute_result"
    }
   ],
   "source": [
    "rice_df=df[df['Crop']=='Rice']\n",
    "odisha_rice_production_df=rice_df[df['State']=='Odisha']\n",
    "odisha_rice_production_df"
   ]
  },
  {
   "cell_type": "code",
   "execution_count": 19,
   "metadata": {},
   "outputs": [],
   "source": [
    "df_odisha_rice_production_year=[2000,2001,2002,2003,2004,2005,2006,2006,2007,2008,2009,2010,2011,2012,2013]\n",
    "df_odisha_rice_production=[4613380.0,7220000.0,3278000.0,6801000.0,6536000.0,6858000.0,\n",
    "                   6823000.0,7540000.0,6812000.0,6913000.0,6824000.0,5806000.0,9496000.0,7610000.0]"
   ]
  },
  {
   "cell_type": "markdown",
   "metadata": {},
   "source": [
    "Now,we will set a plot for rice production of these two states."
   ]
  },
  {
   "cell_type": "code",
   "execution_count": 20,
   "metadata": {},
   "outputs": [
    {
     "data": {
      "image/png": "[encoded data removed]",
      "text/plain": [
       "<Figure size 720x576 with 1 Axes>"
      ]
     },
     "metadata": {
      "needs_background": "light"
     },
     "output_type": "display_data"
    },
    {
     "data": {
      "image/png": "[encoded data removed]",
      "text/plain": [
       "<Figure size 720x576 with 1 Axes>"
      ]
     },
     "metadata": {
      "needs_background": "light"
     },
     "output_type": "display_data"
    }
   ],
   "source": [
    "plt.figure(figsize=(10,8))\n",
    "plt.bar(df_west_bengal_rice_production_year[0:10],df_west_bengal_rice_production[0:10])\n",
    "plt.title('Year vs Production(West Bengal)')\n",
    "plt.xlabel('Year')\n",
    "plt.ylabel('Production')\n",
    "plt.show()\n",
    "plt.figure(figsize=(10,8))\n",
    "plt.bar(df_odisha_rice_production_year[0:10],df_odisha_rice_production[0:10])\n",
    "plt.title('Year vs Production(Odisha)')\n",
    "plt.xlabel('Year')\n",
    "plt.ylabel('Production')\n",
    "plt.show()"
   ]
  },
  {
   "cell_type": "markdown",
   "metadata": {},
   "source": [
    "By the two above graph we can see in 2000 West Bengal's Rice Production is much higher than Odisha's production.Similar for othes years also,the rice production in West Bengal is much higher than Odisha.2000-2013 West Bengal every time produces rice more than 1cr. bt Odisha's highest production is 9496000.0 in 2012.So we can say West Bengal is better rice producing state than Odisha."
   ]
  },
  {
   "cell_type": "markdown",
   "metadata": {},
   "source": [
    "**4.Which State has the highest production of Wheat?**\n",
    "\n",
    "According to the above question we have to show the state name which has the highest wheat production in India.\n",
    "For this,we call the .max() function to crate a dataframe for max wheat.Then we call .sum() and .groupby() function to get the state name which has the maximum wheat production in india."
   ]
  },
  {
   "cell_type": "code",
   "execution_count": 21,
   "metadata": {},
   "outputs": [],
   "source": [
    "max_wheat = df[df['Crop'] == 'Wheat'].max()\n",
    "total_wheat = df[df['Crop'] == 'Wheat'].sum()\n",
    "groupby_max_wheat = df.groupby(['Production']).sum()"
   ]
  },
  {
   "cell_type": "markdown",
   "metadata": {},
   "source": [
    "Now,we will print the state name which has the max wheat production."
   ]
  },
  {
   "cell_type": "code",
   "execution_count": 22,
   "metadata": {},
   "outputs": [
    {
     "name": "stdout",
     "output_type": "stream",
     "text": [
      "Maximum Wheat Production : State         West Bengal\n",
      "Year                 2013\n",
      "Crop                Wheat\n",
      "Area            9839197.0\n",
      "Production     31892480.0\n",
      "dtype: object\n"
     ]
    }
   ],
   "source": [
    "print('Maximum Wheat Production : ' + str(max_wheat))"
   ]
  },
  {
   "cell_type": "markdown",
   "metadata": {},
   "source": [
    "So,we can see West Bengal had produced maximum amount of wheat in the year 2013."
   ]
  },
  {
   "cell_type": "markdown",
   "metadata": {},
   "source": [
    "**5.Build a model to predict the production of Rice in 2014 for Andhra Pradesh, Uttar Pradesh and Tamil nadu.**"
   ]
  },
  {
   "cell_type": "markdown",
   "metadata": {},
   "source": [
    "According to the above question we have to build a model that can predict rice production in 2014 for the mentioned states.\n",
    "So, first lets see what were the production of rice of the mentioned states previous years."
   ]
  },
  {
   "cell_type": "code",
   "execution_count": 29,
   "metadata": {},
   "outputs": [
    {
     "data": {
      "text/html": [
       "<div>\n",
       "<style scoped>\n",
       "    .dataframe tbody tr th:only-of-type {\n",
       "        vertical-align: middle;\n",
       "    }\n",
       "\n",
       "    .dataframe tbody tr th {\n",
       "        vertical-align: top;\n",
       "    }\n",
       "\n",
       "    .dataframe thead th {\n",
       "        text-align: right;\n",
       "    }\n",
       "</style>\n",
       "<table border=\"1\" class=\"dataframe\">\n",
       "  <thead>\n",
       "    <tr style=\"text-align: right;\">\n",
       "      <th></th>\n",
       "      <th>State</th>\n",
       "      <th>Year</th>\n",
       "      <th>Crop</th>\n",
       "      <th>Area</th>\n",
       "      <th>Production</th>\n",
       "    </tr>\n",
       "  </thead>\n",
       "  <tbody>\n",
       "    <tr>\n",
       "      <th>121</th>\n",
       "      <td>Andhra Pradesh</td>\n",
       "      <td>2000</td>\n",
       "      <td>Rice</td>\n",
       "      <td>2694741.0</td>\n",
       "      <td>8040667.0</td>\n",
       "    </tr>\n",
       "    <tr>\n",
       "      <th>162</th>\n",
       "      <td>Andhra Pradesh</td>\n",
       "      <td>2001</td>\n",
       "      <td>Rice</td>\n",
       "      <td>2515353.0</td>\n",
       "      <td>7823692.0</td>\n",
       "    </tr>\n",
       "    <tr>\n",
       "      <th>220</th>\n",
       "      <td>Andhra Pradesh</td>\n",
       "      <td>2002</td>\n",
       "      <td>Rice</td>\n",
       "      <td>1867142.0</td>\n",
       "      <td>5315408.0</td>\n",
       "    </tr>\n",
       "    <tr>\n",
       "      <th>277</th>\n",
       "      <td>Andhra Pradesh</td>\n",
       "      <td>2003</td>\n",
       "      <td>Rice</td>\n",
       "      <td>1957323.0</td>\n",
       "      <td>6054099.0</td>\n",
       "    </tr>\n",
       "    <tr>\n",
       "      <th>318</th>\n",
       "      <td>Andhra Pradesh</td>\n",
       "      <td>2004</td>\n",
       "      <td>Rice</td>\n",
       "      <td>2227682.0</td>\n",
       "      <td>7392678.0</td>\n",
       "    </tr>\n",
       "    <tr>\n",
       "      <th>357</th>\n",
       "      <td>Andhra Pradesh</td>\n",
       "      <td>2005</td>\n",
       "      <td>Rice</td>\n",
       "      <td>2520723.0</td>\n",
       "      <td>7288721.0</td>\n",
       "    </tr>\n",
       "    <tr>\n",
       "      <th>396</th>\n",
       "      <td>Andhra Pradesh</td>\n",
       "      <td>2006</td>\n",
       "      <td>Rice</td>\n",
       "      <td>2488883.0</td>\n",
       "      <td>7616392.0</td>\n",
       "    </tr>\n",
       "    <tr>\n",
       "      <th>425</th>\n",
       "      <td>Andhra Pradesh</td>\n",
       "      <td>2007</td>\n",
       "      <td>Rice</td>\n",
       "      <td>2576000.0</td>\n",
       "      <td>8880000.0</td>\n",
       "    </tr>\n",
       "    <tr>\n",
       "      <th>458</th>\n",
       "      <td>Andhra Pradesh</td>\n",
       "      <td>2008</td>\n",
       "      <td>Rice</td>\n",
       "      <td>2695725.0</td>\n",
       "      <td>8880586.0</td>\n",
       "    </tr>\n",
       "    <tr>\n",
       "      <th>496</th>\n",
       "      <td>Andhra Pradesh</td>\n",
       "      <td>2009</td>\n",
       "      <td>Rice</td>\n",
       "      <td>2325729.0</td>\n",
       "      <td>7569071.0</td>\n",
       "    </tr>\n",
       "    <tr>\n",
       "      <th>536</th>\n",
       "      <td>Andhra Pradesh</td>\n",
       "      <td>2010</td>\n",
       "      <td>Rice</td>\n",
       "      <td>2772377.0</td>\n",
       "      <td>7883078.0</td>\n",
       "    </tr>\n",
       "    <tr>\n",
       "      <th>578</th>\n",
       "      <td>Andhra Pradesh</td>\n",
       "      <td>2011</td>\n",
       "      <td>Rice</td>\n",
       "      <td>2346300.0</td>\n",
       "      <td>7744175.0</td>\n",
       "    </tr>\n",
       "    <tr>\n",
       "      <th>624</th>\n",
       "      <td>Andhra Pradesh</td>\n",
       "      <td>2012</td>\n",
       "      <td>Rice</td>\n",
       "      <td>2209237.0</td>\n",
       "      <td>6862854.0</td>\n",
       "    </tr>\n",
       "    <tr>\n",
       "      <th>673</th>\n",
       "      <td>Andhra Pradesh</td>\n",
       "      <td>2013</td>\n",
       "      <td>Rice</td>\n",
       "      <td>2583440.0</td>\n",
       "      <td>7993425.0</td>\n",
       "    </tr>\n",
       "  </tbody>\n",
       "</table>\n",
       "</div>"
      ],
      "text/plain": [
       "              State  Year  Crop       Area  Production\n",
       "121  Andhra Pradesh  2000  Rice  2694741.0   8040667.0\n",
       "162  Andhra Pradesh  2001  Rice  2515353.0   7823692.0\n",
       "220  Andhra Pradesh  2002  Rice  1867142.0   5315408.0\n",
       "277  Andhra Pradesh  2003  Rice  1957323.0   6054099.0\n",
       "318  Andhra Pradesh  2004  Rice  2227682.0   7392678.0\n",
       "357  Andhra Pradesh  2005  Rice  2520723.0   7288721.0\n",
       "396  Andhra Pradesh  2006  Rice  2488883.0   7616392.0\n",
       "425  Andhra Pradesh  2007  Rice  2576000.0   8880000.0\n",
       "458  Andhra Pradesh  2008  Rice  2695725.0   8880586.0\n",
       "496  Andhra Pradesh  2009  Rice  2325729.0   7569071.0\n",
       "536  Andhra Pradesh  2010  Rice  2772377.0   7883078.0\n",
       "578  Andhra Pradesh  2011  Rice  2346300.0   7744175.0\n",
       "624  Andhra Pradesh  2012  Rice  2209237.0   6862854.0\n",
       "673  Andhra Pradesh  2013  Rice  2583440.0   7993425.0"
      ]
     },
     "execution_count": 29,
     "metadata": {},
     "output_type": "execute_result"
    }
   ],
   "source": [
    "rice_df=df[df['Crop']=='Rice']\n",
    "andhra_pradesh_rice_production_df=rice_df[df['State']=='Andhra Pradesh']\n",
    "andhra_pradesh_rice_production_df"
   ]
  },
  {
   "cell_type": "code",
   "execution_count": 27,
   "metadata": {},
   "outputs": [
    {
     "data": {
      "text/html": [
       "<div>\n",
       "<style scoped>\n",
       "    .dataframe tbody tr th:only-of-type {\n",
       "        vertical-align: middle;\n",
       "    }\n",
       "\n",
       "    .dataframe tbody tr th {\n",
       "        vertical-align: top;\n",
       "    }\n",
       "\n",
       "    .dataframe thead th {\n",
       "        text-align: right;\n",
       "    }\n",
       "</style>\n",
       "<table border=\"1\" class=\"dataframe\">\n",
       "  <thead>\n",
       "    <tr style=\"text-align: right;\">\n",
       "      <th></th>\n",
       "      <th>State</th>\n",
       "      <th>Year</th>\n",
       "      <th>Crop</th>\n",
       "      <th>Area</th>\n",
       "      <th>Production</th>\n",
       "    </tr>\n",
       "  </thead>\n",
       "  <tbody>\n",
       "    <tr>\n",
       "      <th>9365</th>\n",
       "      <td>Uttar Pradesh</td>\n",
       "      <td>2000</td>\n",
       "      <td>Rice</td>\n",
       "      <td>5907151.0</td>\n",
       "      <td>11679149.0</td>\n",
       "    </tr>\n",
       "    <tr>\n",
       "      <th>9388</th>\n",
       "      <td>Uttar Pradesh</td>\n",
       "      <td>2001</td>\n",
       "      <td>Rice</td>\n",
       "      <td>6071325.0</td>\n",
       "      <td>12855857.0</td>\n",
       "    </tr>\n",
       "    <tr>\n",
       "      <th>9414</th>\n",
       "      <td>Uttar Pradesh</td>\n",
       "      <td>2002</td>\n",
       "      <td>Rice</td>\n",
       "      <td>5213429.0</td>\n",
       "      <td>9596346.0</td>\n",
       "    </tr>\n",
       "    <tr>\n",
       "      <th>9441</th>\n",
       "      <td>Uttar Pradesh</td>\n",
       "      <td>2003</td>\n",
       "      <td>Rice</td>\n",
       "      <td>5727772.0</td>\n",
       "      <td>12494939.0</td>\n",
       "    </tr>\n",
       "    <tr>\n",
       "      <th>9466</th>\n",
       "      <td>Uttar Pradesh</td>\n",
       "      <td>2004</td>\n",
       "      <td>Rice</td>\n",
       "      <td>5934405.0</td>\n",
       "      <td>10749989.0</td>\n",
       "    </tr>\n",
       "    <tr>\n",
       "      <th>9492</th>\n",
       "      <td>Uttar Pradesh</td>\n",
       "      <td>2005</td>\n",
       "      <td>Rice</td>\n",
       "      <td>5571524.0</td>\n",
       "      <td>11119095.0</td>\n",
       "    </tr>\n",
       "    <tr>\n",
       "      <th>9524</th>\n",
       "      <td>Uttar Pradesh</td>\n",
       "      <td>2006</td>\n",
       "      <td>Rice</td>\n",
       "      <td>5920752.0</td>\n",
       "      <td>11123613.0</td>\n",
       "    </tr>\n",
       "    <tr>\n",
       "      <th>9554</th>\n",
       "      <td>Uttar Pradesh</td>\n",
       "      <td>2007</td>\n",
       "      <td>Rice</td>\n",
       "      <td>5709388.0</td>\n",
       "      <td>11780112.0</td>\n",
       "    </tr>\n",
       "    <tr>\n",
       "      <th>9586</th>\n",
       "      <td>Uttar Pradesh</td>\n",
       "      <td>2008</td>\n",
       "      <td>Rice</td>\n",
       "      <td>6033382.0</td>\n",
       "      <td>13097031.0</td>\n",
       "    </tr>\n",
       "    <tr>\n",
       "      <th>9618</th>\n",
       "      <td>Uttar Pradesh</td>\n",
       "      <td>2009</td>\n",
       "      <td>Rice</td>\n",
       "      <td>5172741.0</td>\n",
       "      <td>10776504.0</td>\n",
       "    </tr>\n",
       "    <tr>\n",
       "      <th>9648</th>\n",
       "      <td>Uttar Pradesh</td>\n",
       "      <td>2010</td>\n",
       "      <td>Rice</td>\n",
       "      <td>5657070.0</td>\n",
       "      <td>11992299.0</td>\n",
       "    </tr>\n",
       "    <tr>\n",
       "      <th>9681</th>\n",
       "      <td>Uttar Pradesh</td>\n",
       "      <td>2011</td>\n",
       "      <td>Rice</td>\n",
       "      <td>5946285.0</td>\n",
       "      <td>14022392.0</td>\n",
       "    </tr>\n",
       "    <tr>\n",
       "      <th>9714</th>\n",
       "      <td>Uttar Pradesh</td>\n",
       "      <td>2012</td>\n",
       "      <td>Rice</td>\n",
       "      <td>5861282.0</td>\n",
       "      <td>14415939.0</td>\n",
       "    </tr>\n",
       "    <tr>\n",
       "      <th>9747</th>\n",
       "      <td>Uttar Pradesh</td>\n",
       "      <td>2013</td>\n",
       "      <td>Rice</td>\n",
       "      <td>5982369.0</td>\n",
       "      <td>14635836.0</td>\n",
       "    </tr>\n",
       "  </tbody>\n",
       "</table>\n",
       "</div>"
      ],
      "text/plain": [
       "              State  Year  Crop       Area  Production\n",
       "9365  Uttar Pradesh  2000  Rice  5907151.0  11679149.0\n",
       "9388  Uttar Pradesh  2001  Rice  6071325.0  12855857.0\n",
       "9414  Uttar Pradesh  2002  Rice  5213429.0   9596346.0\n",
       "9441  Uttar Pradesh  2003  Rice  5727772.0  12494939.0\n",
       "9466  Uttar Pradesh  2004  Rice  5934405.0  10749989.0\n",
       "9492  Uttar Pradesh  2005  Rice  5571524.0  11119095.0\n",
       "9524  Uttar Pradesh  2006  Rice  5920752.0  11123613.0\n",
       "9554  Uttar Pradesh  2007  Rice  5709388.0  11780112.0\n",
       "9586  Uttar Pradesh  2008  Rice  6033382.0  13097031.0\n",
       "9618  Uttar Pradesh  2009  Rice  5172741.0  10776504.0\n",
       "9648  Uttar Pradesh  2010  Rice  5657070.0  11992299.0\n",
       "9681  Uttar Pradesh  2011  Rice  5946285.0  14022392.0\n",
       "9714  Uttar Pradesh  2012  Rice  5861282.0  14415939.0\n",
       "9747  Uttar Pradesh  2013  Rice  5982369.0  14635836.0"
      ]
     },
     "execution_count": 27,
     "metadata": {},
     "output_type": "execute_result"
    }
   ],
   "source": [
    "rice_df=df[df['Crop']=='Rice']\n",
    "uttar_pradesh_rice_production_df=rice_df[df['State']=='Uttar Pradesh']\n",
    "uttar_pradesh_rice_production_df"
   ]
  },
  {
   "cell_type": "code",
   "execution_count": 28,
   "metadata": {},
   "outputs": [
    {
     "data": {
      "text/html": [
       "<div>\n",
       "<style scoped>\n",
       "    .dataframe tbody tr th:only-of-type {\n",
       "        vertical-align: middle;\n",
       "    }\n",
       "\n",
       "    .dataframe tbody tr th {\n",
       "        vertical-align: top;\n",
       "    }\n",
       "\n",
       "    .dataframe thead th {\n",
       "        text-align: right;\n",
       "    }\n",
       "</style>\n",
       "<table border=\"1\" class=\"dataframe\">\n",
       "  <thead>\n",
       "    <tr style=\"text-align: right;\">\n",
       "      <th></th>\n",
       "      <th>State</th>\n",
       "      <th>Year</th>\n",
       "      <th>Crop</th>\n",
       "      <th>Area</th>\n",
       "      <th>Production</th>\n",
       "    </tr>\n",
       "  </thead>\n",
       "  <tbody>\n",
       "    <tr>\n",
       "      <th>8133</th>\n",
       "      <td>Tamil Nadu</td>\n",
       "      <td>2000</td>\n",
       "      <td>Rice</td>\n",
       "      <td>2113344.0</td>\n",
       "      <td>7217903.0</td>\n",
       "    </tr>\n",
       "    <tr>\n",
       "      <th>8151</th>\n",
       "      <td>Tamil Nadu</td>\n",
       "      <td>2001</td>\n",
       "      <td>Rice</td>\n",
       "      <td>2059878.0</td>\n",
       "      <td>6583630.0</td>\n",
       "    </tr>\n",
       "    <tr>\n",
       "      <th>8214</th>\n",
       "      <td>Tamil Nadu</td>\n",
       "      <td>2002</td>\n",
       "      <td>Rice</td>\n",
       "      <td>1516537.0</td>\n",
       "      <td>3577108.0</td>\n",
       "    </tr>\n",
       "    <tr>\n",
       "      <th>8292</th>\n",
       "      <td>Tamil Nadu</td>\n",
       "      <td>2003</td>\n",
       "      <td>Rice</td>\n",
       "      <td>1396651.0</td>\n",
       "      <td>3222776.0</td>\n",
       "    </tr>\n",
       "    <tr>\n",
       "      <th>8331</th>\n",
       "      <td>Tamil Nadu</td>\n",
       "      <td>2004</td>\n",
       "      <td>Rice</td>\n",
       "      <td>1872822.0</td>\n",
       "      <td>5061622.0</td>\n",
       "    </tr>\n",
       "    <tr>\n",
       "      <th>8368</th>\n",
       "      <td>Tamil Nadu</td>\n",
       "      <td>2005</td>\n",
       "      <td>Rice</td>\n",
       "      <td>2050455.0</td>\n",
       "      <td>5209433.0</td>\n",
       "    </tr>\n",
       "    <tr>\n",
       "      <th>8404</th>\n",
       "      <td>Tamil Nadu</td>\n",
       "      <td>2006</td>\n",
       "      <td>Rice</td>\n",
       "      <td>1931397.0</td>\n",
       "      <td>6610607.0</td>\n",
       "    </tr>\n",
       "    <tr>\n",
       "      <th>8439</th>\n",
       "      <td>Tamil Nadu</td>\n",
       "      <td>2007</td>\n",
       "      <td>Rice</td>\n",
       "      <td>1789170.0</td>\n",
       "      <td>5039954.0</td>\n",
       "    </tr>\n",
       "    <tr>\n",
       "      <th>8473</th>\n",
       "      <td>Tamil Nadu</td>\n",
       "      <td>2008</td>\n",
       "      <td>Rice</td>\n",
       "      <td>1931603.0</td>\n",
       "      <td>5183385.0</td>\n",
       "    </tr>\n",
       "    <tr>\n",
       "      <th>8507</th>\n",
       "      <td>Tamil Nadu</td>\n",
       "      <td>2009</td>\n",
       "      <td>Rice</td>\n",
       "      <td>1845553.0</td>\n",
       "      <td>5665258.0</td>\n",
       "    </tr>\n",
       "    <tr>\n",
       "      <th>8526</th>\n",
       "      <td>Tamil Nadu</td>\n",
       "      <td>2010</td>\n",
       "      <td>Rice</td>\n",
       "      <td>1905726.0</td>\n",
       "      <td>5792415.0</td>\n",
       "    </tr>\n",
       "    <tr>\n",
       "      <th>8555</th>\n",
       "      <td>Tamil Nadu</td>\n",
       "      <td>2011</td>\n",
       "      <td>Rice</td>\n",
       "      <td>1903772.0</td>\n",
       "      <td>7458657.0</td>\n",
       "    </tr>\n",
       "    <tr>\n",
       "      <th>8574</th>\n",
       "      <td>Tamil Nadu</td>\n",
       "      <td>2012</td>\n",
       "      <td>Rice</td>\n",
       "      <td>1493276.0</td>\n",
       "      <td>4050334.0</td>\n",
       "    </tr>\n",
       "    <tr>\n",
       "      <th>8602</th>\n",
       "      <td>Tamil Nadu</td>\n",
       "      <td>2013</td>\n",
       "      <td>Rice</td>\n",
       "      <td>1725730.0</td>\n",
       "      <td>7115195.0</td>\n",
       "    </tr>\n",
       "  </tbody>\n",
       "</table>\n",
       "</div>"
      ],
      "text/plain": [
       "           State  Year  Crop       Area  Production\n",
       "8133  Tamil Nadu  2000  Rice  2113344.0   7217903.0\n",
       "8151  Tamil Nadu  2001  Rice  2059878.0   6583630.0\n",
       "8214  Tamil Nadu  2002  Rice  1516537.0   3577108.0\n",
       "8292  Tamil Nadu  2003  Rice  1396651.0   3222776.0\n",
       "8331  Tamil Nadu  2004  Rice  1872822.0   5061622.0\n",
       "8368  Tamil Nadu  2005  Rice  2050455.0   5209433.0\n",
       "8404  Tamil Nadu  2006  Rice  1931397.0   6610607.0\n",
       "8439  Tamil Nadu  2007  Rice  1789170.0   5039954.0\n",
       "8473  Tamil Nadu  2008  Rice  1931603.0   5183385.0\n",
       "8507  Tamil Nadu  2009  Rice  1845553.0   5665258.0\n",
       "8526  Tamil Nadu  2010  Rice  1905726.0   5792415.0\n",
       "8555  Tamil Nadu  2011  Rice  1903772.0   7458657.0\n",
       "8574  Tamil Nadu  2012  Rice  1493276.0   4050334.0\n",
       "8602  Tamil Nadu  2013  Rice  1725730.0   7115195.0"
      ]
     },
     "execution_count": 28,
     "metadata": {},
     "output_type": "execute_result"
    }
   ],
   "source": [
    "rice_df=df[df['Crop']=='Rice']\n",
    "tamil_nadu_rice_production_df=rice_df[df['State']=='Tamil Nadu']\n",
    "tamil_nadu_rice_production_df"
   ]
  },
  {
   "cell_type": "markdown",
   "metadata": {},
   "source": [
    "Now that we have trained our algorithm, its time to make some predictions"
   ]
  },
  {
   "cell_type": "code",
   "execution_count": 32,
   "metadata": {},
   "outputs": [],
   "source": [
    "crop_data=pd.get_dummies(data=df)"
   ]
  },
  {
   "cell_type": "code",
   "execution_count": 33,
   "metadata": {},
   "outputs": [],
   "source": [
    "from sklearn.model_selection import train_test_split"
   ]
  },
  {
   "cell_type": "code",
   "execution_count": 34,
   "metadata": {},
   "outputs": [
    {
     "data": {
      "text/html": [
       "<div>\n",
       "<style scoped>\n",
       "    .dataframe tbody tr th:only-of-type {\n",
       "        vertical-align: middle;\n",
       "    }\n",
       "\n",
       "    .dataframe tbody tr th {\n",
       "        vertical-align: top;\n",
       "    }\n",
       "\n",
       "    .dataframe thead th {\n",
       "        text-align: right;\n",
       "    }\n",
       "</style>\n",
       "<table border=\"1\" class=\"dataframe\">\n",
       "  <thead>\n",
       "    <tr style=\"text-align: right;\">\n",
       "      <th></th>\n",
       "      <th>Year</th>\n",
       "      <th>Area</th>\n",
       "      <th>State_Andaman and Nicobar Islands</th>\n",
       "      <th>State_Andhra Pradesh</th>\n",
       "      <th>State_Arunachal Pradesh</th>\n",
       "      <th>State_Assam</th>\n",
       "      <th>State_Bihar</th>\n",
       "      <th>State_Chandigarh</th>\n",
       "      <th>State_Chhattisgarh</th>\n",
       "      <th>State_Dadra and Nagar Haveli</th>\n",
       "      <th>...</th>\n",
       "      <th>Crop_Turmeric</th>\n",
       "      <th>Crop_Turnip</th>\n",
       "      <th>Crop_Urad</th>\n",
       "      <th>Crop_Varagu</th>\n",
       "      <th>Crop_Water Melon</th>\n",
       "      <th>Crop_Wheat</th>\n",
       "      <th>Crop_Yam</th>\n",
       "      <th>Crop_other fibres</th>\n",
       "      <th>Crop_other misc. pulses</th>\n",
       "      <th>Crop_other oilseeds</th>\n",
       "    </tr>\n",
       "  </thead>\n",
       "  <tbody>\n",
       "    <tr>\n",
       "      <th>0</th>\n",
       "      <td>2000</td>\n",
       "      <td>4354.0</td>\n",
       "      <td>1</td>\n",
       "      <td>0</td>\n",
       "      <td>0</td>\n",
       "      <td>0</td>\n",
       "      <td>0</td>\n",
       "      <td>0</td>\n",
       "      <td>0</td>\n",
       "      <td>0</td>\n",
       "      <td>...</td>\n",
       "      <td>0</td>\n",
       "      <td>0</td>\n",
       "      <td>0</td>\n",
       "      <td>0</td>\n",
       "      <td>0</td>\n",
       "      <td>0</td>\n",
       "      <td>0</td>\n",
       "      <td>0</td>\n",
       "      <td>0</td>\n",
       "      <td>0</td>\n",
       "    </tr>\n",
       "    <tr>\n",
       "      <th>1</th>\n",
       "      <td>2000</td>\n",
       "      <td>1707.0</td>\n",
       "      <td>1</td>\n",
       "      <td>0</td>\n",
       "      <td>0</td>\n",
       "      <td>0</td>\n",
       "      <td>0</td>\n",
       "      <td>0</td>\n",
       "      <td>0</td>\n",
       "      <td>0</td>\n",
       "      <td>...</td>\n",
       "      <td>0</td>\n",
       "      <td>0</td>\n",
       "      <td>0</td>\n",
       "      <td>0</td>\n",
       "      <td>0</td>\n",
       "      <td>0</td>\n",
       "      <td>0</td>\n",
       "      <td>0</td>\n",
       "      <td>0</td>\n",
       "      <td>0</td>\n",
       "    </tr>\n",
       "    <tr>\n",
       "      <th>2</th>\n",
       "      <td>2000</td>\n",
       "      <td>800.0</td>\n",
       "      <td>1</td>\n",
       "      <td>0</td>\n",
       "      <td>0</td>\n",
       "      <td>0</td>\n",
       "      <td>0</td>\n",
       "      <td>0</td>\n",
       "      <td>0</td>\n",
       "      <td>0</td>\n",
       "      <td>...</td>\n",
       "      <td>0</td>\n",
       "      <td>0</td>\n",
       "      <td>0</td>\n",
       "      <td>0</td>\n",
       "      <td>0</td>\n",
       "      <td>0</td>\n",
       "      <td>0</td>\n",
       "      <td>0</td>\n",
       "      <td>0</td>\n",
       "      <td>0</td>\n",
       "    </tr>\n",
       "    <tr>\n",
       "      <th>3</th>\n",
       "      <td>2000</td>\n",
       "      <td>25160.0</td>\n",
       "      <td>1</td>\n",
       "      <td>0</td>\n",
       "      <td>0</td>\n",
       "      <td>0</td>\n",
       "      <td>0</td>\n",
       "      <td>0</td>\n",
       "      <td>0</td>\n",
       "      <td>0</td>\n",
       "      <td>...</td>\n",
       "      <td>0</td>\n",
       "      <td>0</td>\n",
       "      <td>0</td>\n",
       "      <td>0</td>\n",
       "      <td>0</td>\n",
       "      <td>0</td>\n",
       "      <td>0</td>\n",
       "      <td>0</td>\n",
       "      <td>0</td>\n",
       "      <td>0</td>\n",
       "    </tr>\n",
       "    <tr>\n",
       "      <th>4</th>\n",
       "      <td>2000</td>\n",
       "      <td>388.0</td>\n",
       "      <td>1</td>\n",
       "      <td>0</td>\n",
       "      <td>0</td>\n",
       "      <td>0</td>\n",
       "      <td>0</td>\n",
       "      <td>0</td>\n",
       "      <td>0</td>\n",
       "      <td>0</td>\n",
       "      <td>...</td>\n",
       "      <td>0</td>\n",
       "      <td>0</td>\n",
       "      <td>0</td>\n",
       "      <td>0</td>\n",
       "      <td>0</td>\n",
       "      <td>0</td>\n",
       "      <td>0</td>\n",
       "      <td>0</td>\n",
       "      <td>0</td>\n",
       "      <td>0</td>\n",
       "    </tr>\n",
       "  </tbody>\n",
       "</table>\n",
       "<p>5 rows × 157 columns</p>\n",
       "</div>"
      ],
      "text/plain": [
       "   Year     Area  State_Andaman and Nicobar Islands  State_Andhra Pradesh  \\\n",
       "0  2000   4354.0                                  1                     0   \n",
       "1  2000   1707.0                                  1                     0   \n",
       "2  2000    800.0                                  1                     0   \n",
       "3  2000  25160.0                                  1                     0   \n",
       "4  2000    388.0                                  1                     0   \n",
       "\n",
       "   State_Arunachal Pradesh  State_Assam  State_Bihar  State_Chandigarh  \\\n",
       "0                        0            0            0                 0   \n",
       "1                        0            0            0                 0   \n",
       "2                        0            0            0                 0   \n",
       "3                        0            0            0                 0   \n",
       "4                        0            0            0                 0   \n",
       "\n",
       "   State_Chhattisgarh  State_Dadra and Nagar Haveli  ...  Crop_Turmeric  \\\n",
       "0                   0                             0  ...              0   \n",
       "1                   0                             0  ...              0   \n",
       "2                   0                             0  ...              0   \n",
       "3                   0                             0  ...              0   \n",
       "4                   0                             0  ...              0   \n",
       "\n",
       "   Crop_Turnip  Crop_Urad  Crop_Varagu  Crop_Water Melon  Crop_Wheat  \\\n",
       "0            0          0            0                 0           0   \n",
       "1            0          0            0                 0           0   \n",
       "2            0          0            0                 0           0   \n",
       "3            0          0            0                 0           0   \n",
       "4            0          0            0                 0           0   \n",
       "\n",
       "   Crop_Yam  Crop_other fibres  Crop_other misc. pulses  Crop_other oilseeds  \n",
       "0         0                  0                        0                    0  \n",
       "1         0                  0                        0                    0  \n",
       "2         0                  0                        0                    0  \n",
       "3         0                  0                        0                    0  \n",
       "4         0                  0                        0                    0  \n",
       "\n",
       "[5 rows x 157 columns]"
      ]
     },
     "execution_count": 34,
     "metadata": {},
     "output_type": "execute_result"
    }
   ],
   "source": [
    "X=crop_data.drop('Production',axis=1)\n",
    "X.head()"
   ]
  },
  {
   "cell_type": "code",
   "execution_count": 35,
   "metadata": {},
   "outputs": [
    {
     "data": {
      "text/plain": [
       "0        7200.0\n",
       "1       12714.0\n",
       "2         219.0\n",
       "3    89000000.0\n",
       "4        1220.0\n",
       "Name: Production, dtype: float64"
      ]
     },
     "execution_count": 35,
     "metadata": {},
     "output_type": "execute_result"
    }
   ],
   "source": [
    "y=crop_data['Production']\n",
    "y.head()"
   ]
  },
  {
   "cell_type": "markdown",
   "metadata": {},
   "source": [
    "We have splited our data into training and testing sets,and now we will train our model."
   ]
  },
  {
   "cell_type": "code",
   "execution_count": 38,
   "metadata": {},
   "outputs": [
    {
     "data": {
      "text/plain": [
       "LinearRegression()"
      ]
     },
     "execution_count": 38,
     "metadata": {},
     "output_type": "execute_result"
    }
   ],
   "source": [
    "X_train,X_test,y_train,y_test=train_test_split(X,y,test_size=0.33,random_state=42)\n",
    "from sklearn.linear_model import LinearRegression\n",
    "crop_model=LinearRegression()\n",
    "crop_model.fit(X_train,y_train)"
   ]
  },
  {
   "cell_type": "code",
   "execution_count": 39,
   "metadata": {},
   "outputs": [
    {
     "data": {
      "text/plain": [
       "array([  2753862.88178504, -13146110.92409635,  23793940.23387146, ...,\n",
       "        63505173.89426923,   7680127.66949213, -11892716.04433429])"
      ]
     },
     "execution_count": 39,
     "metadata": {},
     "output_type": "execute_result"
    }
   ],
   "source": [
    "crop_predictions=crop_model.predict(X_test)\n",
    "crop_predictions"
   ]
  },
  {
   "cell_type": "code",
   "execution_count": 40,
   "metadata": {},
   "outputs": [
    {
     "name": "stdout",
     "output_type": "stream",
     "text": [
      "      Year       Area  State_Andaman and Nicobar Islands  \\\n",
      "2882  2008   175400.0                                  0   \n",
      "3933  2000  1022701.0                                  0   \n",
      "304   2004  1646166.0                                  0   \n",
      "3325  2011    41197.0                                  0   \n",
      "2626  2010     7370.0                                  0   \n",
      "...    ...        ...                                ...   \n",
      "2102  2007       50.0                                  0   \n",
      "997   2005    17875.0                                  0   \n",
      "9648  2010  5657070.0                                  0   \n",
      "9891  2004       21.0                                  0   \n",
      "1176  2011    65560.0                                  0   \n",
      "\n",
      "      State_Andhra Pradesh  State_Arunachal Pradesh  State_Assam  State_Bihar  \\\n",
      "2882                     0                        0            0            0   \n",
      "3933                     0                        0            0            0   \n",
      "304                      1                        0            0            0   \n",
      "3325                     0                        0            0            0   \n",
      "2626                     0                        0            0            0   \n",
      "...                    ...                      ...          ...          ...   \n",
      "2102                     0                        0            0            0   \n",
      "997                      0                        0            1            0   \n",
      "9648                     0                        0            0            0   \n",
      "9891                     0                        0            0            0   \n",
      "1176                     0                        0            1            0   \n",
      "\n",
      "      State_Chandigarh  State_Chhattisgarh  State_Dadra and Nagar Haveli  ...  \\\n",
      "2882                 0                   0                             0  ...   \n",
      "3933                 0                   0                             0  ...   \n",
      "304                  0                   0                             0  ...   \n",
      "3325                 0                   0                             0  ...   \n",
      "2626                 0                   0                             0  ...   \n",
      "...                ...                 ...                           ...  ...   \n",
      "2102                 0                   1                             0  ...   \n",
      "997                  0                   0                             0  ...   \n",
      "9648                 0                   0                             0  ...   \n",
      "9891                 0                   0                             0  ...   \n",
      "1176                 0                   0                             0  ...   \n",
      "\n",
      "      Crop_Turmeric  Crop_Turnip  Crop_Urad  Crop_Varagu  Crop_Water Melon  \\\n",
      "2882              0            0          0            0                 0   \n",
      "3933              0            0          0            0                 0   \n",
      "304               0            0          0            0                 0   \n",
      "3325              0            0          0            0                 0   \n",
      "2626              0            0          0            0                 0   \n",
      "...             ...          ...        ...          ...               ...   \n",
      "2102              0            0          0            0                 0   \n",
      "997               0            0          0            0                 0   \n",
      "9648              0            0          0            0                 0   \n",
      "9891              0            0          0            0                 0   \n",
      "1176              0            0          0            0                 0   \n",
      "\n",
      "      Crop_Wheat  Crop_Yam  Crop_other fibres  Crop_other misc. pulses  \\\n",
      "2882           0         0                  0                        0   \n",
      "3933           0         0                  0                        0   \n",
      "304            0         0                  0                        0   \n",
      "3325           0         0                  0                        0   \n",
      "2626           0         0                  0                        0   \n",
      "...          ...       ...                ...                      ...   \n",
      "2102           0         0                  0                        0   \n",
      "997            0         0                  0                        0   \n",
      "9648           0         0                  0                        0   \n",
      "9891           0         0                  0                        0   \n",
      "1176           0         0                  0                        0   \n",
      "\n",
      "      Crop_other oilseeds  \n",
      "2882                    0  \n",
      "3933                    0  \n",
      "304                     0  \n",
      "3325                    0  \n",
      "2626                    0  \n",
      "...                   ...  \n",
      "2102                    0  \n",
      "997                     0  \n",
      "9648                    0  \n",
      "9891                    0  \n",
      "1176                    0  \n",
      "\n",
      "[3533 rows x 157 columns]\n"
     ]
    },
    {
     "data": {
      "text/plain": [
       "2882      176800.0\n",
       "3933     1835332.0\n",
       "304      1442146.0\n",
       "3325      149000.0\n",
       "2626        7836.0\n",
       "           ...    \n",
       "2102          68.0\n",
       "997        11309.0\n",
       "9648    11992299.0\n",
       "9891           7.0\n",
       "1176      608023.0\n",
       "Name: Production, Length: 3533, dtype: float64"
      ]
     },
     "execution_count": 40,
     "metadata": {},
     "output_type": "execute_result"
    }
   ],
   "source": [
    "print(X_test)\n",
    "y_pred=crop_model.predict(X_test)\n",
    "y_test"
   ]
  },
  {
   "cell_type": "code",
   "execution_count": 41,
   "metadata": {},
   "outputs": [
    {
     "data": {
      "text/plain": [
       "array([  2753862.88178504, -13146110.92409635,  23793940.23387146, ...,\n",
       "        63505173.89426923,   7680127.66949213, -11892716.04433429])"
      ]
     },
     "execution_count": 41,
     "metadata": {},
     "output_type": "execute_result"
    }
   ],
   "source": [
    "y_pred"
   ]
  },
  {
   "cell_type": "code",
   "execution_count": 42,
   "metadata": {},
   "outputs": [
    {
     "data": {
      "text/html": [
       "<div>\n",
       "<style scoped>\n",
       "    .dataframe tbody tr th:only-of-type {\n",
       "        vertical-align: middle;\n",
       "    }\n",
       "\n",
       "    .dataframe tbody tr th {\n",
       "        vertical-align: top;\n",
       "    }\n",
       "\n",
       "    .dataframe thead th {\n",
       "        text-align: right;\n",
       "    }\n",
       "</style>\n",
       "<table border=\"1\" class=\"dataframe\">\n",
       "  <thead>\n",
       "    <tr style=\"text-align: right;\">\n",
       "      <th></th>\n",
       "      <th>Actual</th>\n",
       "      <th>Predicted</th>\n",
       "    </tr>\n",
       "  </thead>\n",
       "  <tbody>\n",
       "    <tr>\n",
       "      <th>0</th>\n",
       "      <td>2882      176800.0\n",
       "3933     1835332.0\n",
       "304     ...</td>\n",
       "      <td>[2753862.881785035, -13146110.924096346, 23793...</td>\n",
       "    </tr>\n",
       "  </tbody>\n",
       "</table>\n",
       "</div>"
      ],
      "text/plain": [
       "                                              Actual  \\\n",
       "0  2882      176800.0\n",
       "3933     1835332.0\n",
       "304     ...   \n",
       "\n",
       "                                           Predicted  \n",
       "0  [2753862.881785035, -13146110.924096346, 23793...  "
      ]
     },
     "execution_count": 42,
     "metadata": {},
     "output_type": "execute_result"
    }
   ],
   "source": [
    "#comparing acrual vs predicted\n",
    "comp=pd.DataFrame({'Actual':[y_test],'Predicted':[y_pred]})\n",
    "comp"
   ]
  },
  {
   "cell_type": "code",
   "execution_count": null,
   "metadata": {},
   "outputs": [],
   "source": []
  }
 ],
 "metadata": {
  "kernelspec": {
   "display_name": "Python 3",
   "language": "python",
   "name": "python3"
  },
  "language_info": {
   "codemirror_mode": {
    "name": "ipython",
    "version": 3
   },
   "file_extension": ".py",
   "mimetype": "text/x-python",
   "name": "python",
   "nbconvert_exporter": "python",
   "pygments_lexer": "ipython3",
   "version": "3.8.3"
  }
 },
 "nbformat": 4,
 "nbformat_minor": 5
}
